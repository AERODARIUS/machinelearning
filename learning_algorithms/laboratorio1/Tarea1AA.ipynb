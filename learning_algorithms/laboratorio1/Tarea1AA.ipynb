{
 "cells": [
  {
   "cell_type": "markdown",
   "metadata": {
    "id": "sPAQvvewKOUs"
   },
   "source": [
    "# **Programa**"
   ]
  },
  {
   "cell_type": "code",
   "execution_count": 1,
   "metadata": {
    "id": "v-7fD6ee1lqp"
   },
   "outputs": [],
   "source": [
    "import copy\n",
    "import random\n",
    "import numpy as np\n",
    "import matplotlib.pyplot as plt\n",
    "cm = 1/2.54  # centimeters in inches\n",
    "\n",
    "random.seed(5) # Random pero predecible\n",
    "\n",
    "B=1\n",
    "N=-1"
   ]
  },
  {
   "cell_type": "code",
   "execution_count": 2,
   "metadata": {
    "id": "H3snlPA1MZ3W"
   },
   "outputs": [],
   "source": [
    "def movimientosPieza(tablero, x, y) :\n",
    "    color = tablero[y][x]\n",
    "    res = []\n",
    "\n",
    "    if color != 0 :\n",
    "      dir = y+color\n",
    "      dirComer = y+2*(color)\n",
    "      oponente = -(color)\n",
    "      # Comentarios subjetivos a las fichas blancas\n",
    "      if dir < 8 and dir > -1 :\n",
    "        # Me puedo mover a la izquierda?\n",
    "        if x > 0:\n",
    "          if tablero[dir][x-1] == 0:\n",
    "            res = res + [(x-1,dir)]\n",
    "            # Si no, Puedo comer a la izquierda?\n",
    "          elif tablero[dir][x-1] == oponente:\n",
    "            if x > 1 and dirComer > -1 and dirComer < 8 :\n",
    "              if tablero[dirComer][x-2] == 0:\n",
    "                res = res + [(x-2,dirComer)]\n",
    "        # Me puedo mover a la derecha\n",
    "        if x < 7:\n",
    "          if tablero[dir][x+1] == 0:\n",
    "            res = res + [(x+1,dir)]\n",
    "            # Sino, Puedo comer a la derecha?\n",
    "          elif tablero[dir][x+1] == oponente:\n",
    "            if x < 6 and dirComer > -1 and dirComer < 8 :\n",
    "              if tablero[dirComer][x+2] == 0:\n",
    "                res = res + [(x+2,dirComer)]\n",
    "\n",
    "    return res"
   ]
  },
  {
   "cell_type": "code",
   "execution_count": 3,
   "metadata": {
    "id": "zSrCKJIuNTXn"
   },
   "outputs": [],
   "source": [
    "# Para debaguear el historial de partidas\n",
    "CUADRO_NEGRO = '\\033[0;0;47m'\n",
    "FICHA_MUEVE = '\\033[95m'\n",
    "FIN_FORMATO_COLOR = '\\033[0;0m'\n",
    "\n",
    "def printCuadro (cuadro, idx, idy, origen, destino) :\n",
    "  cuadro_con_formato = cuadro\n",
    "  color = CUADRO_NEGRO if (idx + idy) % 2 == 0 else ''\n",
    "  ox, oy = origen\n",
    "  dx, dy = destino\n",
    "\n",
    "  if cuadro == 0 :\n",
    "    cuadro_con_formato = ' '\n",
    "  else :\n",
    "    cuadro_con_formato = 'B' if cuadro > 0 else 'N'\n",
    "\n",
    "  if idx == ox and idy == oy :\n",
    "    color = FICHA_MUEVE\n",
    "    cuadro_con_formato = '#'\n",
    "\n",
    "  if idx == dx and idy == dy :\n",
    "    color = FICHA_MUEVE\n",
    "\n",
    "  print(f'{color} {cuadro_con_formato}', end=f' {FIN_FORMATO_COLOR}')\n",
    "\n",
    "def printTablero (tablero, origen = (None, None), destino = (None, None)) :\n",
    "  print('  ', end='')\n",
    "  for idy in range(8) :\n",
    "    print(f' {idy} ', end='')\n",
    "\n",
    "  print('')\n",
    "\n",
    "  for idy, fila in enumerate(tablero) :\n",
    "    print(idy, end=' ')\n",
    "    for idx, cuadro in enumerate(fila) :\n",
    "        printCuadro(cuadro, idx, idy, origen, destino)\n",
    "\n",
    "    print()"
   ]
  },
  {
   "cell_type": "code",
   "execution_count": 4,
   "metadata": {
    "id": "nPhPaI5PO1ke"
   },
   "outputs": [],
   "source": [
    "def todosLosMovimientos (tablero) :\n",
    "  movimientosBlancas = []\n",
    "  movimientosNegras = []\n",
    "\n",
    "  for y, fila in enumerate(tablero) :\n",
    "    for x, cuadro in enumerate(fila) :\n",
    "      movPieza = movimientosPieza(tablero, x, y)\n",
    "\n",
    "      if len(movPieza) > 0 :\n",
    "        color = tablero[y][x]\n",
    "        piezaConMovs = ((x, y), movPieza)\n",
    "\n",
    "        if color == B :\n",
    "          movimientosBlancas.append(piezaConMovs)\n",
    "        else :\n",
    "          movimientosNegras.append(piezaConMovs)\n",
    "\n",
    "  return (movimientosBlancas, movimientosNegras)"
   ]
  },
  {
   "cell_type": "code",
   "execution_count": 5,
   "metadata": {
    "id": "wZqsxOciU-1S"
   },
   "outputs": [],
   "source": [
    "def moverPieza (tablero, origen, destino) :\n",
    "  nuevoTablero = copy.deepcopy(tablero)\n",
    "  xO, yO = origen\n",
    "  xD, yD = destino\n",
    "  xDiff = xD - xO\n",
    "  yDiff = yD - yO\n",
    "\n",
    "  nuevoTablero[yD][xD] = nuevoTablero[yO][xO]\n",
    "  nuevoTablero[yO][xO] = 0\n",
    "\n",
    "  if abs(xDiff) == 2 : # Comer pieza\n",
    "    xPosComer = xO + (xDiff // 2)\n",
    "    yPosComer = yO + (yDiff // 2)\n",
    "    nuevoTablero[yPosComer][xPosComer] = 0\n",
    "\n",
    "  return nuevoTablero"
   ]
  },
  {
   "cell_type": "code",
   "execution_count": 6,
   "metadata": {
    "id": "sV9_y67Yc5qY"
   },
   "outputs": [],
   "source": [
    "def posicionesAdyacentes(x, y) :\n",
    "  adyacentes = []\n",
    "\n",
    "  if x < 7 and y < 7 :\n",
    "    adyacentes.append([x+1,y+1])\n",
    "  else :\n",
    "    adyacentes.append(None)\n",
    "\n",
    "\n",
    "  if x < 7 and y > 0 :\n",
    "    adyacentes.append([x+1,y-1])\n",
    "  else :\n",
    "    adyacentes.append(None)\n",
    "\n",
    "  if x > 0 and y < 7 :\n",
    "    adyacentes.append([x-1,y+1])\n",
    "  else :\n",
    "    adyacentes.append(None)\n",
    "\n",
    "  if x > 0 and y > 0 :\n",
    "    adyacentes.append([x-1,y-1])\n",
    "  else :\n",
    "    adyacentes.append(None)\n",
    "\n",
    "  return adyacentes "
   ]
  },
  {
   "cell_type": "code",
   "execution_count": 7,
   "metadata": {
    "id": "YECBTKMzcw3y"
   },
   "outputs": [],
   "source": [
    "def colorFicha (tablero, ficha) :\n",
    "  if ficha != None :\n",
    "    return tablero[ficha[1]][ficha[0]]\n",
    "  \n",
    "  return None"
   ]
  },
  {
   "cell_type": "code",
   "execution_count": 8,
   "metadata": {
    "id": "w1zGd0spcd3p"
   },
   "outputs": [],
   "source": [
    "#Esto devuelvo positivo si ganaron las blancas  y negativo si ganaron las negras\n",
    "def ganador(tablero):\n",
    "  fichasB, fichasN, amenazadasB, amenazadasN = contarPiezas(tablero)\n",
    "  return fichasB - fichasN\n",
    "#Esto devuelve la cantidad sin importar el turno\n",
    "def contarPiezas (tablero) :\n",
    "  fichasB = 0\n",
    "  fichasN = 0\n",
    "  amenazadasB = 0\n",
    "  amenazadasN = 0\n",
    "\n",
    "  for x in range(8) :\n",
    "    for y in range(8) :\n",
    "      casillero = tablero[y][x]\n",
    "      a1, a2, a3, a4 = posicionesAdyacentes(x,y)\n",
    "      dr = colorFicha(tablero, a1) #Abajo derecha\n",
    "      ur = colorFicha(tablero, a2) #Arriba derecha\n",
    "      dl = colorFicha(tablero, a3) #Abajo izquierda\n",
    "      ul = colorFicha(tablero, a4) #Arriba izquierda\n",
    "\n",
    "      if casillero == B :\n",
    "        fichasB += 1\n",
    "        if (dr == N and ul == 0) or (dl == N and ur == 0) :\n",
    "          amenazadasB += 1\n",
    "\n",
    "      elif casillero == N :\n",
    "        fichasN += 1\n",
    "        if (ul == B and dr == 0) or (ur == B and dl == 0) :\n",
    "          amenazadasN += 1\n",
    "\n",
    "  return [fichasB, fichasN, amenazadasB, amenazadasN]"
   ]
  },
  {
   "cell_type": "code",
   "execution_count": 9,
   "metadata": {
    "id": "Yjr4bx0xbp6G"
   },
   "outputs": [],
   "source": [
    "def valorarTablero (tablero, pesos, turno) :\n",
    "  fichasB, fichasN, amenazadasB, amenazadasN = contarPiezas(tablero)\n",
    "  w0,w1,w2,w3,w4 = pesos\n",
    "  if turno == B :\n",
    "    return w0 + (w1 * fichasB) +( w2 * fichasN) + (w3 * amenazadasB) + (w4 * amenazadasN)\n",
    "  else :\n",
    "    return -(w0 + (w1 * fichasB) +( w2 * fichasN) + (w3 * amenazadasB) + (w4 * amenazadasN))\n"
   ]
  },
  {
   "cell_type": "code",
   "execution_count": 10,
   "metadata": {
    "id": "e7HDohdWNrTw"
   },
   "outputs": [],
   "source": [
    "# retorna el tablero modificado después de jugar\n",
    "def hacerJugada (tablero, jugador, movimientos) :\n",
    "  # Elegir jugada mejor valorada según jugador\n",
    "  maxVal = -float(\"Inf\")\n",
    "  movs = []\n",
    "  origen = (None, None)\n",
    "  destino = (None, None)\n",
    "\n",
    "  for pieza, movPieza in movimientos :\n",
    "    for mov in movPieza :\n",
    "      valoracion = jugador(tablero, pieza, mov)\n",
    "\n",
    "      if valoracion > maxVal :\n",
    "        maxVal = valoracion\n",
    "        movs = [(pieza, mov)]\n",
    "      elif valoracion == maxVal :\n",
    "        movs.append((pieza, mov))\n",
    "\n",
    "  origen, destino = movs[round(random.random()*(len(movs)-1))]\n",
    "\n",
    "  return moverPieza(tablero, origen, destino), origen, destino, maxVal"
   ]
  },
  {
   "cell_type": "code",
   "execution_count": 11,
   "metadata": {
    "id": "5lZ4mtNeb-ZI"
   },
   "outputs": [],
   "source": [
    "def mejorJugadaRival (tablero, color, pesos) :\n",
    "  movsBlancas, movsNegras = todosLosMovimientos(tablero)\n",
    "  fichasMueven = movsBlancas if color == B else movsNegras\n",
    "  maxVal = -float(\"Inf\")\n",
    "  origen = None\n",
    "  destino = None\n",
    "\n",
    "  # Elige el mejor movimiento que supone puede hacer el contrario\n",
    "  for pieza, movimientos in fichasMueven :\n",
    "    for movimiento in movimientos :\n",
    "      # Simulo que mueve contrincante\n",
    "      tableroPrueba = moverPieza(tablero, pieza, movimiento)\n",
    "      valoracion = valorarTablero(tableroPrueba, pesos, color)\n",
    "\n",
    "      if valoracion > maxVal :\n",
    "        maxVal = valoracion\n",
    "        origen = pieza\n",
    "        destino = movimiento\n",
    "\n",
    "  return (origen, destino)"
   ]
  },
  {
   "cell_type": "markdown",
   "metadata": {
    "id": "paqYnWraajsE"
   },
   "source": [
    "# **ALGORITMOS JUGADORES**"
   ]
  },
  {
   "cell_type": "code",
   "execution_count": 12,
   "metadata": {
    "id": "IGD-9ftOkwZ5"
   },
   "outputs": [],
   "source": [
    "# Como devuelve un número random, cada movimiento va a tener una valoración random\n",
    "# Lo que resulta igualmente en elegir un movimiento random\n",
    "def jugadorRandom(pesos) :\n",
    "  def algoritmoRandom(tablero, pieza, movimiento) :\n",
    "    return random.random()\n",
    "\n",
    "  return algoritmoRandom"
   ]
  },
  {
   "cell_type": "code",
   "execution_count": 13,
   "metadata": {
    "id": "76yFayxgZMcB"
   },
   "outputs": [],
   "source": [
    "# El que va a ser entrenado\n",
    "def jugadorEntrenado (pesos) :\n",
    "  #print(pesos)\n",
    "  def jugador (tablero, pieza, movimiento) :\n",
    "    x, y = pieza\n",
    "    color = tablero[y][x]\n",
    "\n",
    "    # Simulo muevo\n",
    "    tableroPrueba = moverPieza(tablero, pieza, movimiento)\n",
    "\n",
    "    # Simulo mueve el rival\n",
    "    piezaRival, movimientoRival = mejorJugadaRival(tableroPrueba, -color, pesos)\n",
    "    if piezaRival != None : # else rival no tiene movimientos\n",
    "      tableroPrueba = moverPieza(tableroPrueba, piezaRival, movimientoRival)\n",
    "\n",
    "    valoracion = valorarTablero(tableroPrueba, pesos, color)\n",
    "    return valoracion\n",
    "\n",
    "  return jugador"
   ]
  },
  {
   "cell_type": "markdown",
   "metadata": {
    "id": "ENAojMZtatPG"
   },
   "source": [
    "# **Algoritmos Grandes**"
   ]
  },
  {
   "cell_type": "markdown",
   "metadata": {
    "id": "2CjZP-M0fBKn"
   },
   "source": [
    "# **Jugar y competir**"
   ]
  },
  {
   "cell_type": "code",
   "execution_count": 14,
   "metadata": {
    "id": "0G8ChgetQ7g2"
   },
   "outputs": [],
   "source": [
    "def jugar (jugadorNegras, jugadorBlancas) :\n",
    "  turnos = 1\n",
    "  tablero = [[0, B, 0, B, 0, B, 0, B],\n",
    "            [B, 0, B, 0, B, 0, B, 0], \n",
    "            [0, B, 0, B, 0, B, 0, B], \n",
    "            [0, 0, 0, 0, 0, 0, 0, 0], \n",
    "            [0, 0, 0, 0, 0, 0, 0, 0], \n",
    "            [N, 0, N, 0, N, 0, N, 0], \n",
    "            [0, N, 0, N, 0, N, 0, N], \n",
    "            [N, 0, N, 0, N, 0, N, 0]]\n",
    "  turno = B;\n",
    "  historicoTableros = [tablero]\n",
    "  historicoTurnos = []\n",
    "  historicoValoraciones = []\n",
    "  movsBlancas, movsNegras = todosLosMovimientos(tablero)\n",
    "\n",
    "  while len(movsBlancas) > 0 or len(movsNegras) :\n",
    "    muevenTurno = movsBlancas if turno == B else movsNegras\n",
    "    jugadorTurno = jugadorBlancas if turno == B else jugadorNegras\n",
    "\n",
    "    if len(muevenTurno) > 0 :\n",
    "      tablero, origen, destino, valoracion = hacerJugada(tablero, jugadorTurno, muevenTurno)\n",
    "      historicoTableros.append(tablero)\n",
    "      historicoTurnos.append(turno)\n",
    "      historicoValoraciones.append(valoracion)\n",
    "      movsBlancas, movsNegras = todosLosMovimientos(tablero);\n",
    "\n",
    "    # print()\n",
    "    # print(f'Tablero Nro. {turnos}:')\n",
    "    # printTablero(tablero, origen, destino)\n",
    "    # print(valoracion) \n",
    "    turno = -turno\n",
    "    turnos += 1\n",
    "\n",
    "  # print()\n",
    "  # print(f'Tablero Nro. {turnos}: FIN!')\n",
    "  # printTablero(tablero)\n",
    "  # print(historicoValoraciones)\n",
    "  return (historicoTableros, historicoTurnos, historicoValoraciones)"
   ]
  },
  {
   "cell_type": "markdown",
   "metadata": {
    "id": "URYNJK-6fHUg"
   },
   "source": [
    "# **Aprender y entrenar**"
   ]
  },
  {
   "cell_type": "code",
   "execution_count": 15,
   "metadata": {
    "id": "-vlZ20W5p8qd"
   },
   "outputs": [],
   "source": [
    "def filtrarTableros(tableros, valoraciones, turnos, turno):\n",
    "  nuevoTableros = []\n",
    "  nuevoValoraciones = []\n",
    "  iter = 0\n",
    "  while iter < len(turnos):\n",
    "    if (turnos[iter]==turno):\n",
    "      nuevoTableros.append(tableros[iter])\n",
    "      nuevoValoraciones.append(valoraciones[iter])\n",
    "    iter = iter +1\n",
    "  return nuevoTableros, nuevoValoraciones\n",
    "\n",
    "\n",
    "\n",
    "\n",
    "def evaluarTableroFinal(tableros, turno, avanzado = False):\n",
    "  tablero = tableros[len(tableros)-1]\n",
    "  piezasB, piezasN, amenazadasB, amenazadasN = contarPiezas(tablero)\n",
    "  dif = piezasB - piezasN\n",
    "  if (avanzado):\n",
    "    return dif if  turno == B else -dif\n",
    "  if (turno == B):\n",
    "    if (dif > 0):\n",
    "      return 1\n",
    "    elif (dif == 0):\n",
    "      return 0\n",
    "    elif (dif < 0):\n",
    "      return -1\n",
    "  else:\n",
    "    if (dif < 0):\n",
    "      return 1\n",
    "    elif (dif == 0):\n",
    "      return 0\n",
    "    elif (dif > 0):\n",
    "      return -1\n",
    "\n",
    "def aprenderTurno(tablero, valEntrenamiento, valOperacional, pesosParametro, turno, iter):\n",
    "  u = 0.1 * (1 / iter)\n",
    "  piezasB, piezasN, amenazadasB, amenazadasN = contarPiezas(tablero)\n",
    "  #Le agregamos el uno para poder iterar bien con el w0\n",
    "  xis = [1,  piezasB, piezasN, amenazadasB, amenazadasN]\n",
    "  \n",
    "  w0,w1,w2,w3,w4 = pesosParametro\n",
    "  pesos = [w0,w1,w2,w3,w4]\n",
    "  xis = [ 1, piezasB, piezasN, amenazadasB, amenazadasN ]\n",
    "\n",
    "  for iter in range(5) :\n",
    "    pesos[iter] = pesos[iter] + u*(valEntrenamiento - valOperacional)*xis[iter]\n",
    "\n",
    "  error = ((w0 - pesos[0])**2 + (w1 - pesos[1])**2 + (w2 - pesos[2])**2 + (w3 - pesos[3])**2 + (w4 - pesos[4])**2)\n",
    " \n",
    "  pesos = pesos / np.linalg.norm(pesos)\n",
    "\n",
    "  return (pesos,error)\n",
    "\n",
    "def aprender (tableros, valoraciones, turnos, pesos, turno, avanzado = False):\n",
    "  tableros, valoraciones = filtrarTableros(tableros, valoraciones,turnos, turno)\n",
    "  pesosViejos = copy.deepcopy(pesos)\n",
    "  errores = []\n",
    "\n",
    "  for i in range(len(tableros)-1):\n",
    "    tab = tableros[i] # Este es el tablero cuando comienza mi turno, me toca mover\n",
    "    valEnt = valorarTablero(tableros[i+1], pesosViejos, turno) #Valoro el tablero que me devuelve el enemigo\n",
    "    valOp = valorarTablero(tableros[i], pesos, turno) #valoro mi tablero antes de atacar\n",
    "    pesos, error = aprenderTurno(tab, valEnt, valOp, pesos,turno,i+1)\n",
    "    errores.append(error)\n",
    "\n",
    "  ultimaValoracion = evaluarTableroFinal(tableros, turno, avanzado)\n",
    "  tab = tableros[-1]\n",
    "  valEnt = valorarTablero(tab, pesos,turno)\n",
    "  pesosNuevos, error = aprenderTurno(tab, valEnt,ultimaValoracion, pesos, turno, 1)\n",
    "\n",
    "  # Analizar resultado final de la partida\n",
    "  return pesosNuevos, error\n"
   ]
  },
  {
   "cell_type": "code",
   "execution_count": 16,
   "metadata": {
    "id": "07SkJt7Qr9ma"
   },
   "outputs": [],
   "source": [
    "# Notar que aprendiz y contrincante ya son las funciones de valorar\n",
    "def entrenar (aprendiz, contrincante, pesosAprendiz, pesosRival, maxIteraciones, turno, avanzado = False) :\n",
    "  iteracion = 0\n",
    "  pesosHistory = [pesosAprendiz]\n",
    "  resultado = [0,0,0] # gano, empate, pierdo\n",
    "  porcentajeVictorias = 0\n",
    "  pvHistory = [0]\n",
    "  \n",
    "  algoritmoAprendiz = aprendiz(pesosAprendiz)\n",
    "  algoritmoContrincante = contrincante(pesosRival)\n",
    "\n",
    "  jugadorBlancas = algoritmoAprendiz if turno == B else algoritmoContrincante\n",
    "  jugadorNegras = algoritmoContrincante if turno == B else algoritmoAprendiz\n",
    "\n",
    "  while iteracion < maxIteraciones:\n",
    "    tableros, turnos, valoraciones = jugar(jugadorNegras, jugadorBlancas)\n",
    "    pesosAprendiz, error = aprender(tableros, valoraciones, turnos, pesosAprendiz,turno, avanzado)\n",
    "    pesosHistory.append(pesosAprendiz)\n",
    "    algoritmoAprendiz = aprendiz(pesosAprendiz)\n",
    "\n",
    "    resultadoPartida = evaluarTableroFinal(tableros,turno)\n",
    "\n",
    "    if (resultadoPartida == 1):\n",
    "      resultado[0] = resultado[0] + 1 \n",
    "    elif (resultadoPartida == 0):\n",
    "      resultado[1] = resultado[1] + 1 \n",
    "    elif (resultadoPartida == -1):\n",
    "      resultado[2] = resultado[2] + 1 \n",
    "    iteracion = iteracion + 1\n",
    "\n",
    "    porcentajeVictorias = resultado[0]/(resultado[0]+resultado[1]+resultado[2])\n",
    "    pvHistory.append(porcentajeVictorias)\n",
    "\n",
    "  return resultado, pesosHistory, pvHistory"
   ]
  },
  {
   "cell_type": "code",
   "execution_count": 17,
   "metadata": {
    "id": "JCsJY7ap4hnL"
   },
   "outputs": [],
   "source": [
    "def competir (pesos1, pesos2, cantPartidas) :\n",
    "  gana = 0\n",
    "  empata = 0\n",
    "  pierde = 0\n",
    "  jugador1 = jugadorEntrenado(pesos1)\n",
    "  jugador2 = jugadorEntrenado(pesos2)\n",
    "\n",
    "  for i in range(cantPartidas) :\n",
    "    tableros, turnos, valoraciones = jugar(jugador1, jugador2)\n",
    "    resultado = evaluarTableroFinal(tableros, N)\n",
    "    gana += 1 if resultado == 1 else 0\n",
    "    empata += 1 if resultado == 0 else 0\n",
    "    pierde += 1 if resultado == -1 else 0\n",
    "\n",
    "  for i in range(cantPartidas) :\n",
    "    tableros, turnos, valoraciones = jugar(jugador2, jugador1)\n",
    "    resultado = evaluarTableroFinal(tableros, B)\n",
    "    gana += 1 if resultado == 1 else 0\n",
    "    empata += 1 if resultado == 0 else 0\n",
    "    pierde += 1 if resultado == -1 else 0\n",
    "\n",
    "  print(gana, empata, pierde, ' - JUGADOR1, EMPATA, JUGADOR2')\n",
    "\n",
    "  return (gana, pierde, empata)"
   ]
  },
  {
   "cell_type": "markdown",
   "metadata": {
    "id": "D0M77WDsE6fU"
   },
   "source": [
    "# Entrenamiento"
   ]
  },
  {
   "cell_type": "markdown",
   "metadata": {
    "id": "zmSIP8WNEynO"
   },
   "source": [
    "## Entrenando contra un oponente que siempre juegue de forma aleatoria"
   ]
  },
  {
   "cell_type": "code",
   "execution_count": 18,
   "metadata": {
    "colab": {
     "base_uri": "https://localhost:8080/",
     "height": 620
    },
    "id": "c6VX9RCMFFnU",
    "outputId": "7c55b3cc-8a22-4ffc-81ea-9127d6bd4c15"
   },
   "outputs": [
    {
     "name": "stdout",
     "output_type": "stream",
     "text": [
      "[98, 2, 0]\n",
      "pesos:  [ 8.46160985e-02  9.92856523e-01  8.41184999e-02 -6.81792841e-05\n",
      " -3.36364996e-04]\n"
     ]
    },
    {
     "data": {
      "image/png": "[encoded data removed]",
      "text/plain": [
       "<Figure size 850.394x283.465 with 1 Axes>"
      ]
     },
     "metadata": {
      "needs_background": "light"
     },
     "output_type": "display_data"
    },
    {
     "name": "stdout",
     "output_type": "stream",
     "text": [
      "[96, 2, 2]\n",
      "pesos:  [-0.15172411  0.22333128 -0.96184435  0.02148607  0.03868765]\n"
     ]
    },
    {
     "data": {
      "image/png": "[encoded data removed]",
      "text/plain": [
       "<Figure size 850.394x283.465 with 1 Axes>"
      ]
     },
     "metadata": {
      "needs_background": "light"
     },
     "output_type": "display_data"
    }
   ],
   "source": [
    "pesosEntrenado = (0.5, 0.7, -0.7,  -0.9, 0.5)\n",
    "resultado, pesos1, racha1 = entrenar(jugadorEntrenado, jugadorRandom, pesosEntrenado, None, 100, B)\n",
    "\n",
    "print(resultado)\n",
    "pesosEntrenado = pesos1[-1]\n",
    "print(\"pesos: \", pesosEntrenado)\n",
    "\n",
    "plt.subplots(figsize=(30*cm, 10*cm))\n",
    "plt.plot(racha1)\n",
    "plt.xlabel('Nro. partidas')\n",
    "plt.ylabel('Porcentaje victorias')\n",
    "plt.show()\n",
    "\n",
    "resultado, pesos2, racha2 = entrenar(jugadorEntrenado, jugadorRandom, pesosEntrenado, None, 100, N)\n",
    "\n",
    "print(resultado)\n",
    "pesosEntrenado = pesos2[-1]\n",
    "print(\"pesos: \", pesosEntrenado)\n",
    "pesosNivel1 = copy.deepcopy(pesosEntrenado)\n",
    "\n",
    "plt.subplots(figsize=(30*cm, 10*cm))\n",
    "plt.plot(racha2)\n",
    "plt.xlabel('Nro. partidas')\n",
    "plt.ylabel('Porcentaje victorias')\n",
    "plt.show()"
   ]
  },
  {
   "cell_type": "markdown",
   "metadata": {
    "id": "VyuzTjTeFGSg"
   },
   "source": [
    "## Entrenando contra un oponente que sea la versión del propio jugador de alguna iteración anterior. "
   ]
  },
  {
   "cell_type": "code",
   "execution_count": 19,
   "metadata": {
    "colab": {
     "base_uri": "https://localhost:8080/",
     "height": 364
    },
    "id": "90PZy1fNFYGM",
    "outputId": "cd6dab41-0580-48c2-b818-94d1ec2f8967"
   },
   "outputs": [
    {
     "name": "stdout",
     "output_type": "stream",
     "text": [
      "[1, 0, 0, 0, 0, 0, 0, 0, 0, 0, 0, 0, 0, 0, 0, 0, 0, 0, 0, 0, 1, 0, 1, 0, 1, 1, 0, 0, 1, 1, 0, 1, 1, 0, 0, 1, 1, 1, 1, 0, 1, 0, 1, 0, 1, 1, 1, 0, 1, 0, 1, 0, 1, 1, 0, 0, 1, 1, 0, 1, 0, 0, 1, 1, 0, 0, 1, 1, 1, 0, 0, 1, 0, 1, 1, 0, 1, 1, 0, 1, 0, 0, 0, 1, 0, 0, 0, 1, 0, 0, 0, 1, 1, 0, 1, 0, 0, 0, 1, 0, 1, 0, 0, 0, 0, 1, 0, 0, 1, 0, 1, 0, 0, 0, 0, 0, 0, 0, 1, 0, 1, 0, 0, 0, 0, 0, 0, 0, 0, 0, 0, 0, 1, 0, 0, 0, 0, 0, 1, 0, 1, 0, 0, 0, 1, 0, 0, 1, 1, 0, 0, 0, 1, 0, 1, 0, 1, 0, 0, 0, 0, 0, 0, 0, 1, 0, 0, 1, 1, 0, 0, 0, 0, 0, 1, 0, 0, 1, 1, 0, 0, 0, 0, 0, 1, 0, 0, 0, 0, 0, 0, 0, 0, 0, 0, 0, 0, 0, 0, 0]\n",
      "[64, 40, 96]\n",
      "pesos:  [-8.14851241e-02 -3.69173603e-01 -8.09601747e-01  4.49016638e-01\n",
      " -3.09421062e-04]\n"
     ]
    },
    {
     "data": {
      "image/png": "[encoded data removed]",
      "text/plain": [
       "<Figure size 850.394x283.465 with 1 Axes>"
      ]
     },
     "metadata": {
      "needs_background": "light"
     },
     "output_type": "display_data"
    }
   ],
   "source": [
    "resultado = [0,0,0]\n",
    "pesos = []\n",
    "racha = []\n",
    "victorias = 0\n",
    "pesosEntrenado = (0.5, 0.7, -0.7,  -0.9, 0.5)\n",
    "pesosIterAnterior = copy.deepcopy(pesosEntrenado)\n",
    "resPartidas = []\n",
    "\n",
    "for i in range(100) :\n",
    "  if (i % 10) == 0 :\n",
    "    pesosIterAnterior = copy.deepcopy(pesosEntrenado)\n",
    "  resultado2, pesosA2, racha2 = entrenar(jugadorEntrenado, jugadorEntrenado, pesosEntrenado, pesosIterAnterior, 1, N)\n",
    "  pesosEntrenado = pesosA2[-1]\n",
    "  victoria = 1 if resultado2[0] == 1 else 0;\n",
    "  resPartidas.append(victoria) # 1 si gana \n",
    "\n",
    "  resultado1, pesosA1, racha1 = entrenar(jugadorEntrenado, jugadorEntrenado, pesosEntrenado, pesosIterAnterior, 1, B)\n",
    "  pesosEntrenado = pesosA1[-1]\n",
    "  victoria = 1 if resultado1[0] == 1 else 0;\n",
    "  resPartidas.append(victoria)\n",
    "  resultado[0] = resultado[0] + resultado2[0] + resultado1[0]\n",
    "  resultado[1] = resultado[1] + resultado2[1] + resultado1[1]\n",
    "  resultado[2] = resultado[2] + resultado2[2] + resultado1[2]\n",
    "\n",
    "cantPartidas = 0\n",
    "\n",
    "for r in resPartidas :\n",
    "  cantPartidas += 1\n",
    "  if r == 1 : # else 0 si pierde o empata\n",
    "    victorias += 1;\n",
    "    racha.append(victorias / cantPartidas)\n",
    "\n",
    "print(resultado)\n",
    "print(\"pesos: \", pesosEntrenado)\n",
    "pesosNivel2 = copy.deepcopy(pesosEntrenado)\n",
    "plt.subplots(figsize=(30*cm, 10*cm))\n",
    "plt.plot(racha)\n",
    "plt.xlabel('Nro. partidas')\n",
    "plt.ylabel('Porcentaje victorias')\n",
    "plt.show()"
   ]
  },
  {
   "cell_type": "markdown",
   "metadata": {
    "id": "Pe-a3enDFYff"
   },
   "source": [
    "## Jugador con resultado final igual a la diferencia de fichas\n",
    "Entrenando el jugador contra el anterior"
   ]
  },
  {
   "cell_type": "code",
   "execution_count": 20,
   "metadata": {
    "colab": {
     "base_uri": "https://localhost:8080/",
     "height": 605
    },
    "id": "ld-oBfDBF7OM",
    "outputId": "e39f7b98-d5d1-47eb-c352-6459834e445c"
   },
   "outputs": [
    {
     "name": "stdout",
     "output_type": "stream",
     "text": [
      "[84, 13, 3]\n",
      "pesos:  [-0.09003505 -0.82357577 -0.56000407  0.00092092  0.00335191]\n"
     ]
    },
    {
     "data": {
      "image/png": "[encoded data removed]",
      "text/plain": [
       "<Figure size 850.394x283.465 with 1 Axes>"
      ]
     },
     "metadata": {
      "needs_background": "light"
     },
     "output_type": "display_data"
    },
    {
     "name": "stdout",
     "output_type": "stream",
     "text": [
      "[5, 2, 93]\n",
      "pesos:  [-0.13419059 -0.95085102  0.25430458  0.11078565  0.03051124]\n"
     ]
    },
    {
     "data": {
      "image/png": "[encoded data removed]",
      "text/plain": [
       "<Figure size 850.394x283.465 with 1 Axes>"
      ]
     },
     "metadata": {
      "needs_background": "light"
     },
     "output_type": "display_data"
    }
   ],
   "source": [
    "pesosEntrenado = (0.5, 0.7, -0.7,  -0.9, 0.5)\n",
    "\n",
    "resultado, pesos1, racha1 = entrenar(jugadorEntrenado, jugadorEntrenado, pesosEntrenado, pesosNivel2, 100, B, True)\n",
    "print(resultado)\n",
    "pesosEntrenado = pesos1[-1];\n",
    "print(\"pesos: \", pesosEntrenado)\n",
    "plt.subplots(figsize=(30*cm, 10*cm))\n",
    "plt.plot(racha1)\n",
    "plt.xlabel('Nro. partidas')\n",
    "plt.ylabel('Porcentaje victorias')\n",
    "plt.show()\n",
    "\n",
    "resultado, pesos2, racha2 = entrenar(jugadorEntrenado, jugadorEntrenado, pesosEntrenado, pesosNivel2, 100, N, True)\n",
    "print(resultado)\n",
    "pesosEntrenado = pesos2[-1];\n",
    "print(\"pesos: \", pesosEntrenado)\n",
    "pesosNivel3 = copy.deepcopy(pesosEntrenado)\n",
    "\n",
    "plt.subplots(figsize=(30*cm, 10*cm))\n",
    "plt.plot(racha2)\n",
    "plt.xlabel('Nro. partidas')\n",
    "plt.ylabel('Porcentaje victorias')\n",
    "plt.show()"
   ]
  },
  {
   "cell_type": "markdown",
   "metadata": {
    "id": "thK8Sc4tF7mx"
   },
   "source": [
    "## Compitiendo los tres jugadores"
   ]
  },
  {
   "cell_type": "code",
   "execution_count": null,
   "metadata": {
    "colab": {
     "base_uri": "https://localhost:8080/"
    },
    "id": "S8dWKBVniOSx",
    "outputId": "20665058-3bd0-44ad-e57b-8f5c1fdd12f3"
   },
   "outputs": [
    {
     "name": "stdout",
     "output_type": "stream",
     "text": [
      "Principiante [-0.15172411  0.22333128 -0.96184435  0.02148607  0.03868765]\n",
      "Intermedio [-8.14851241e-02 -3.69173603e-01 -8.09601747e-01  4.49016638e-01\n",
      " -3.09421062e-04]\n",
      "Avanzado [-0.13419059 -0.95085102  0.25430458  0.11078565  0.03051124]\n"
     ]
    }
   ],
   "source": [
    "print('Principiante', pesosNivel1)\n",
    "print('Intermedio', pesosNivel2)\n",
    "print('Avanzado', pesosNivel3)\n",
    "competir(pesosNivel1, pesosNivel2, 250)\n",
    "competir(pesosNivel2, pesosNivel3, 250)\n",
    "competir(pesosNivel1, pesosNivel3, 250)\n"
   ]
  },
  {
   "cell_type": "code",
   "execution_count": null,
   "metadata": {},
   "outputs": [],
   "source": []
  }
 ],
 "metadata": {
  "colab": {
   "collapsed_sections": [],
   "name": "Tarea1AA.ipynb",
   "provenance": [],
   "toc_visible": true
  },
  "kernelspec": {
   "display_name": "Python 3 (ipykernel)",
   "language": "python",
   "name": "python3"
  },
  "language_info": {
   "codemirror_mode": {
    "name": "ipython",
    "version": 3
   },
   "file_extension": ".py",
   "mimetype": "text/x-python",
   "name": "python",
   "nbconvert_exporter": "python",
   "pygments_lexer": "ipython3",
   "version": "3.9.1"
  }
 },
 "nbformat": 4,
 "nbformat_minor": 1
}
