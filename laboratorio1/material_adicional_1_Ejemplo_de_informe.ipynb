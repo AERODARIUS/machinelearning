{
 "cells": [
  {
   "cell_type": "markdown",
   "metadata": {
    "id": "p1XivZ1-x8xZ"
   },
   "source": [
    "# Entrega 1 - Aprendizaje automático damas\n",
    "\n",
    "### Grupo 6:\n",
    "     - Darío Cruz  4768599-2\n",
    "     - Agustin Tornaría 5047825-5\n",
    "     - Renzo Beux 5076905-8\n",
    "\n"
   ]
  },
  {
   "cell_type": "markdown",
   "metadata": {
    "id": "VSs5oAPjx8xb"
   },
   "source": [
    "## 1. Objetivo"
   ]
  },
  {
   "cell_type": "markdown",
   "metadata": {
    "id": "GJOtkoCBx8xd"
   },
   "source": [
    "El objetivo de esta tarea es construir un jugador de damas que entrene una cierta cantidad de veces para poder aprender a elegir las mejores jugadas llevandolo a la victoria. En este caso utilizamos aprendizaje por reforzamiento para el entrenamiento y la toma de decisiones del jugador.\n",
    "\n",
    "La tarea a mejorar es entonces jugar lo mejor posible a las damas. El éxito del aprendizaje se mide a través del porcentaje de partidas ganadas contra otros rivales. Y la experiencia pasada son las partidas que jugó con un jugador random y consigo mismo.\n"
   ]
  },
  {
   "cell_type": "markdown",
   "metadata": {
    "id": "D_AIUBJEx8xe"
   },
   "source": [
    "## 2. Diseño"
   ]
  },
  {
   "cell_type": "markdown",
   "metadata": {
    "id": "eIhTudEWx8xf"
   },
   "source": [
    "## 2.1 Juego\n",
    "Se determinan ciertas reglas particulares para este problema:\n",
    "\n",
    "1.   De ser posible, siempre se debe mover una ficha \n",
    "2.   Como máximo se puede comer solo a una ficha por jugada\n",
    "3.   No hay posibilidad de coronación, o sea, no hay reinas y se juega solo con peones.\n",
    "4.   El juego termina una vez que ninguno de los dos jugadores puede hacer un movimiento. Gana el que tenga más fichas o se empata si se tiene la misma cantidad de fichas.\n",
    "\n",
    "## 2.2 Tablero\n",
    "El tablero se representa a partir de un arreglo de arreglos. Cada arreglo es de tamaño 8, los arreglos dentro del arreglo principal son las filas del tablero, en donde se indica con 0 las casillas libres y con B o N las fichas blancas o negras. Notese que B y N son constantes definidas anteriormente como 1 y -1 respectivamente.\n",
    "\n",
    "Realizamos una partida entre dos jugadores aleatorios, y elegimos algunos tableros de esas partidas para ver el valor de sus atributos.\n",
    "\n",
    "![Tablero 1](https://uca6b73c04aee940fbe3c0f33b56.previews.dropboxusercontent.com/p/thumb/ABSmVAlu0Qr4G5vtDVVXqRE2yA2cxSsnUrAxc5QirjmzlPdMc_zSCPsEHevmlrRhsV6xiNcNcIZpd1Xi70icTDXC4S1md-fswJaW9L79xJrWYdZpe9vrBB6RObUlIphe0trsIoljfGkuYqTToGDMFTh_DvOH4hSOgSKJL-Q0dI3haKey7AAPf15WDK7vYUIapGNSooqNqFHYc3C4whND5I06oRFHE6eRUxDQ2RVJ9Rdz7-IqnFDNopHvv-nfbiufnIOqxCnOcfdyJLgMEt0QfWcemD9D4MCiuEUgT5RWVfQpzdLE_oLoh9PVZJf6Hq0zrHZhEW8H48TX1jR6VwqN234aFdl79DEiBwgivr3dPpbUV2XoHs1f2Hj0bYJ6b8qh8qvW4I7jAF_gwvc3m_tJivbQ/p.png?fv_content=true&size_mode=5)\n",
    "\n",
    "![Tablero 2](https://uc6a969343fa73ea51380f8252a2.previews.dropboxusercontent.com/p/thumb/ABQeZj0kIUy03JZU1XPh5L6GvkLigBoKswmPWeUpgc7z8efVKtDDCHpxtwq5gox1vkClnGgHmsYToQpP9aCb2-4vuYNCvtwXOuhYp1t7qn0Qcwq_1KeeZ1TanSJnS5yeLuL9KHvX3Je6wtAEJGSwcaMeCG5eBTiDgYQL3pCWEuZtf_v7Nu_BPCBOi47t2i_Nqn1ZKPnKROBviNkYE1wd5B_STC2KGvVIFhTEyHWbppDoSXPPeiM7wAfLjNy0UXSRCV1HSIuug_3jbyNAcVdOOgR0-7trZe9oGG6PJkGaVIg7LpJ_jEGX85MFRbkldvrFklmS6iUCHJZ41VcbkoAz2ae4v4gcvquOzUowFdEj2uMbguC42qHQGVmbO4ovc2delkLQtHGbjBZ_4RtZZUuVd3t9/p.png?fv_content=true&size_mode=5)\n",
    "\n",
    "![Tablero 3](https://uc10a84c651ec0ece66cc5a13b5c.previews.dropboxusercontent.com/p/thumb/ABT-sWkKU_C_RfuNBnsizWY9xYzDvkfWnjy9hlnXg3qAYyJ9-wYewpmUgKSwO_XUCoMoSzDczpVs5SGMcfMto1qAELwX6TnahZ8BFmle_gptHWhM7kQdxrxOin_2Ne8s0ZjtaLQZaExhemXFy_I9eFByXBpyK077KRTNnyYzS9klEhYopVNgBpg6IazhdNwmPav7mLB-mckowkeZ4TYHUFJwt6BleZwJjdiIeb16bOOV0HMYuzpFijPR7O0GOnN0eAoUuUNlLovh53wpe5Rse_1usAS1Dg0GT--GiNnsdR9Eym9X-SM6z2m_jFYcJ6kSsJ9h1NBk21dL-N5FoNIJ_2nkq4fuM5hxsBqsTy7QLxyUIIBTNFkJ23Kzq4PbQwmme93Wa5BYNw75MidtZrwsLlYq/p.png?fv_content=true&size_mode=5)\n",
    "\n",
    "![Tablero 4](https://uc9aa8bee25edf8bb2bea446de7f.previews.dropboxusercontent.com/p/thumb/ABRyqqk5fq_4us9tG4p-tbIT8NlF-xV2qIkmjFtwLIp7dpnOSoJEt8zwrZvIkOSYqyUF5uDY30obmb-kWZFl5PZ4BEzc1RDdNoHD51IliAOSnxWD2ZPX-pDkk2l0Lnm1KrrjxdW-b70KtrZG33RGC9UxUeJNEFNXZqwOa9X2Om-AZJlVLupK1RQlM2a4NmpVGSeWr4sbJ1KsZfVmhbpMe1tt0Qfx-ffaUJA2se-DxMha_0vfXT8NdDJVbodsF1-06zyor9l5bgpGUWuRo3X9HDXpDd53tVjewF_WFlXtO5ho_abJM_BvL1-jLRx2GyIEFfagg2-bQ8rEh9achqrIjg79GLvFTh9aFX3h18LR5oQpUDA5rq04yqGLu1B0DRIgiQVt0XZA0JtkbOcU9xRG35Q0/p.png?fv_content=true&size_mode=5)\n",
    "\n",
    "![Tablero 5](https://uc85c174b1f87db458178f91a168.previews.dropboxusercontent.com/p/thumb/ABSGaQQ8uBLAcsOxmBs5AtU9eTBPx3pl4u5Nem5UEyzeROix7AQ2SW01zZEWv5P1eGwkXLPuS7gN06T2JnTvQgdYJ9n7IFP_5e8k4gy8_rrcFmdI3MkZEQHyWD6tQCrKGnU_Sw5tNprjefxzGw8lRl9aNHMaB1D8Fo6pNmU59Wzpzp44K7ZDHy_jC69hT0cgHdfZQJClUp07pJ2tbrNAencCYnt7K359ekcKGeQnUmxRVBY_3RewkIB_k-sb3UX6iF7QBFoQ9emf134eNOlwW3jAMIhdhF_uU7hZcViWYpYLi4We7imdzqFoycZMltnemZ-noAqUY9QSGIXB0IIqHk8kDbjog37Hg5dWQqUnsRGMmwEskypMFp0fVowBLooUig99u-dWidQ1U_ckr50I54pl/p.png?fv_content=true&size_mode=5)\n",
    "\n",
    "\n",
    "## 2.3 Algoritmo\n",
    "La función de valoracion utiliza 4 variables que se calculan a partir del tablero:\n",
    "\n",
    "\n",
    "1.   Cantidad de fichas blancas\n",
    "2.   Cantidad de fichas negras\n",
    "3.   Cantidad de amenazas a una ficha blanca\n",
    "4.   Cantidad de amenazas a una ficha negras\n",
    "\n",
    "Estas variables son multiplicadas cada una por un peso y se suman, estos pesos son los que se van a ir ajustando. Esto es lo que hace que el jugador vaya \"aprendiendo\". Además se tiene peso independiente para representar aquellas propiedes no consideradas.\n",
    "\n",
    "Cuando se entrena al jugador se van ajustando los pesos al finalizar cada partida, teniendo en cuenta si ganó o perdió y habiendo guardado todos los tableros de esa partida, junto con las valoraciones obtenidas, se aplica el algoritmo de mínimos cuadrados para ajustar los pesos. \n",
    "\n",
    "Se empieza con un paso igual a 0.1 y luego se ajusta según las iteraciones. Osea por cada iteracion en donde se apreende (en cada partida) se divide el paso entre el numero de iteracion, de esta manera el paso empieza siendo 0.1, luego 0.05, 0.0333.. etc.\n",
    "\n",
    "Se inicia el vector peso de forma arbitraria, con valores definidos por nosotros los cuales creemos que tienen sentido, en cierta forma, intentando \"ayudar\" al algoritmo. En todos los casos a los pesos los vemos de la siguiente manera, suponiendo que somo blancas:\n",
    "* w0 es el termino independiente\n",
    "* w1 es que tanto aprecio las fichas blancas (mis fichas)\n",
    "* w2 es que tanto aprecio las fichas negras (del contrario)\n",
    "* w3 es que tanto quiero que un tablero tenga fichas blancas amenazadas\n",
    "* w4 es que tanto quiero que un tablero tenga fichas negras amenzadas\n",
    "\n",
    "Es por esto que decidimos utilizar como valor inicial el vector w = (0.5, 0.7, -0.7, -0.9, 0.5)\n",
    "\n",
    "## 2.4 Contrarios\n",
    "Los rivales con los cuales se entrenaron al jugador fueron dos, un rival que juega aleatoriamente y una versión anterior.\n",
    "\n",
    "El rival aleatorio sortea con distribución uniforme la ficha que va a jugar entre las que tienen movimientos disponibles, luego de seleccionar la ficha sortea con distribución uniforme el movimiento entre los movimientos posibles de esa ficha. Ambos sorteos son realizados con la función random().\n",
    "\n",
    "El rival que es una versión anterior va actualizando y emparejando sus pesos con el jugador que entrena cada 10 partidas jugadas. Ambos comienzan con los mismos pesos definidos de forma arbitraria."
   ]
  },
  {
   "cell_type": "markdown",
   "metadata": {
    "id": "Qp56Fshgx8xh"
   },
   "source": [
    "## 3. Experimentación"
   ]
  },
  {
   "cell_type": "markdown",
   "metadata": {
    "id": "ASyw8fD-x8xi"
   },
   "source": [
    "Se entrenaron 3 jugadores, el primero entrena contra el jugador random, el segundo contra una versión anterior de si mismo y el último igual que el segundo jugador pero teniendo en cuenta con cuantas fichas de diferencia gana o pierde. \n",
    "\n",
    "Se los hizo competir entre sí con los pesos fijos, haciendolos competir alternando colores. Como los jugadores si tienen varias jugadas con una misma valoracion escojen de forma aleatoria una de ellas, las partidas no quedan determinadas luego del primer resultado y es por esto que corremos competir 250 veces y no una vez.\n",
    "\n",
    "A continuación presentaremos los resultados obtenidos en cada caso:\n"
   ]
  },
  {
   "cell_type": "markdown",
   "metadata": {
    "id": "Akni0KEVx8xl"
   },
   "source": [
    "\n",
    "**Entrenamiento contra un jugador que juega de forma aleatoria:**\n",
    "\n",
    "Habiendo jugado como blancas se ganó 97 partidas, se empataron 3 y no se perdió ninguna. La evolucion en el tiempo del porcentaje de victorias, asi como los pesos son posible ver en la imagen:\n",
    "\n",
    "![BlancaVsRandom](https://uc2f68d125d229f3c231daec4063.previews.dropboxusercontent.com/p/thumb/ABSLJ9fJTsEGBRLFCF1uvu6j962IohiHdhLZOMOdIbwBvN-GWM74TLny9o7uTFYN35CBfSGg6KeHlp2TbRDtOv-pfLxph5mIc0X_dSV93lzYa7qeol-41iJPMXvkM0_Vzf1NTpfT0QVcXUvl7-TpzS9InjUKCM7Rp3dTDPrx7Fe_8waGdrfgfcGHoNm1X8rRpv8ctFJQdAajSzt4ovjvdAyKo5ikJ3MVq3txZPxIAa61hECuHc8AQLpaHxchr7L123WjUskJuK9KEqZmeVCin2pETbFriovT1zjx4_ZXRhFxQ46TnqF48uCrqFaQOQMC64ap_AtzBPSV-1TdwygT5UmhB-wh8HAz5sW014elPb42Azy-SDZ71mmukFMqnEdPFbejjEt0imrMpkVGKWdIUOas/p.png?fv_content=true&size_mode=5)\n",
    "\n",
    "Luego como negras se ganó 98 partidas y se perdieron 2:\n",
    "\n",
    "![NegraVsRandom](https://ucbeb09f06bed42e085480bd2ea5.previews.dropboxusercontent.com/p/thumb/ABTrobrgwU7MK6KQELrDfBBb_HtqsmDova5oNyPTSdbaMuxjVOwIC7n3Qi0Tswj1zxBCzwOtzDwE_NdkpRYSaLO0qWxloa3O3E8T2Cls9v-XSY67G4YIxCfWxakiFURw1W1Ry3SEe0sFtesKeleu4hvX4UQHVGCv3HViCGHBjIILM3mkSJUSLxyzkwveYBK2i3hoi8ZvzflPf9tKPsVUlAKClM64wqLGS78Q_QwJ9irGD98FWs3hhNZ3SbAH_8vRrsrKzFZburMBRhqVyG_gDT03GGGR5bNubz8pYkCnqKt3kwyKuY3xfRKY-CjaW8qp1Nk6niEqZso2mRKjekAK0kPuz577BP11LDNMw6Y-eI3kXzBBcwAvYwd07jNoOV5eQMnMvKzN-nRcwONy8Nqrrpq3/p.png?fv_content=true&size_mode=5)\n",
    "\n",
    "\n",
    "**Entrenando un jugador contra si mismo (alguna iteracion anterior)**\n",
    "\n",
    "En este caso se intercalan las partidas jugadas como blancas y como negras:\n",
    "\n",
    "![contraSiMismo](https://uc05d40b95eb3f07b9b106088a79.previews.dropboxusercontent.com/p/thumb/ABS3RyRDIoXbb3TGynEwHRttH37VHfkUv571KR-32kYTFYo329I5x5L2NT5hKO4uUKdPFLIkqz9vWq-6gLMWQflLsGIvnSPNx42D_WpbguRhmTEGJisfp_qNVFVRprKCokARP2POe8NX3BVg89FzYa0BJr-OPhnhU53oLXIvZmYaJvD_ATiOa_m4J5ZQlzq8zEFwrGJBNWajmtaUkjINAj6uzbPnyEiUZilNTlLWIDrZmDoJ9C6fs92nP1kUUesviTUfmN459O2KzAkorkLCPdgqkrjgaWwt0CJr0fDCna1FEc9kfBj9t-t5v6fxJbxBM6WoQBGpQipJOhqCI7tg4qrNuRH6Ajb9fz0JDAu_vJyu9p0osSYUAOUGWWwuX2vLY503KV524BDqwRCYRvsPpAE7/p.png?fv_content=true&size_mode=5)\n",
    "\n",
    "**Entrenando contra una iteracion anterior pero ahora la valoracion final es la diferencia de fichas**\n",
    "\n",
    "Jugando como blancas vs una iteracion anterior:\n",
    "\n",
    "![blancasDiferencia](https://uc39f981b06a3571e4ec3c34719f.previews.dropboxusercontent.com/p/thumb/ABSUTSNLichLhsB9YapUDNcvzqC6q9M6p0W6yDNWPfYlLnW_v4HVkdFMQ5Lhl_18FnxnMRD9ffEYzTx3GUNDpASYcrbh5DZDkjkSBkzln-oERwDRBTYkhq63hq6wonXkkSdgU-Ef3ncXKw_NP1mvZaU5xy_lIeoJ4MxUXHvVI7AGbS2suUnpXyJH705MBjZX3XO60pZ2NNN8sPt_a15IR7JH9shcc74ffCJpfKmwDs0Z8eyuZnu-HnuCIRBwkv_pvF13juRoLkfyjuZ_SBrVfx5_Y3UgJOMjdbeamvTk8eLXERGkpF5K3zHHF-GQYFV30REC7o8bd6wG3Uhw8lpafJ-NopIcHwuGImPlW6N2UCseTA27eWQ_21Onq6jTVVQjPeriSTQeE3WKDy3u5_UdSbSU/p.png?fv_content=true&size_mode=5)\n",
    "\n",
    "Jugando como negras vs una iteracion anterior:\n",
    "![negrasDiferencia](https://ucd12628747c17f65059768c8b04.previews.dropboxusercontent.com/p/thumb/ABRCuBqHsZ0mohaMPRIoT3IxIudnltMlY8p7dlg4qyyR2GrcLyymLVTIPBNpsCz1oTUzSabS-HqiEC6rAJ-EaKcFTnl1M9ItX2Ndt7qUyyF2Ny20jI9Dja26vQHHh4PvjxNjU3suUllq__whFGggb2PbxfRfRP20zrhbIBqiadQnoX5TQ_YA4cj1PYpiRq0CegLTzTfezm8ZUImBZm3eUTCWNlFmFr7gtzNTT1C0C-si4s31A2fCK-zEe8BmclotA6lzf5THTuYn75FAW0lZY9QcE2JPubcG2AkG5_WAHPuI_jLTHRJdftU-5T20j-99IToTO5zGf4nWnTQMKBCo1n3CqIoAQmn39x0bXexz7zzSEH5kt6HpZ-TH7KDXd1o4UYGCNI0ABhSm-ulrCEB9Nvt2/p.png?fv_content=true&size_mode=5)\n",
    "\n",
    "**Competencia entre los 3 jugadores distintos**\n",
    "\n",
    "En la siguiente imagen vemos los resultados de la competencia entre los diferentes jugadores, primero imprimimos los pesos de cada jugador y luego en las ultimas tres lineas imprimimos el resultado de la competencia en donde \"Principiante\" es el jugador entrenado contra un jugador aleatorio, \"Intermedio\" es el jugador entrenado contra si mismo y \"Avanzado\" es el jugador que entrenó contra si mismo pero teniendo en cuenta la diferencia de fichas en el caso de los tablero finales.\n",
    "\n",
    "| N. de torneo | Jugador 1    | Jugador 2  |\n",
    "|--------------|--------------|------------|\n",
    "| 1            | Principiante | Intermedio |\n",
    "| 2            | Intermedio   | Avanzado   |\n",
    "| 3            | Principiante | Avanzado   |\n",
    "\n",
    "![competencia](https://uc049c475fd17cf8336626a0de79.previews.dropboxusercontent.com/p/thumb/ABST0JqFGjwoHOdKK5HtnfrzWSwxdEps1E0Wsc3avcSBwsQVezxXPU8XqiF0PL98arJA1xQtUqjwEbBVCStUIswKElI8AeJfP_-4J___9-wdBE-l_XvkQOkfi-utp6MLTg6hun4WGNOdy-H70IkihuCPRRG3eRJD5oj5rf2m4DwOyr7XVKvB-x6yYwn-4smO9CQuPmj-qq_K9imFl1AAShEl89Dh-MWSH0dxMLQf6Fr_UWnMVMNqbNyXoRujaeCWkmSo4-4y3lgtVR5Paj37YKqEsRX2-FCQ4W-lpjx9MoYze5ph3yBkp_KR8MqJcMBjlZAjDMz48R0MmQy1V2FB8j3hfPRTw7sb6L5Eo_vLJ8RbYYz0m2h60Ag6-mz92uAeUWxsFTXrn-EY0yleOKMPM67a/p.png?fv_content=true&size_mode=5)"
   ]
  },
  {
   "cell_type": "markdown",
   "metadata": {
    "id": "hodUDjZgx8xl"
   },
   "source": [
    "## 4. Conclusión"
   ]
  },
  {
   "cell_type": "markdown",
   "metadata": {
    "id": "UQZ8S20mx8xm"
   },
   "source": [
    "Se puede observar como el algoritmo da muy buenos resultados entrenando y jugando contra un oponente aleatorio. Por otro lado  cuando entrena con una versión anterior el porcentaje de victorias disminuye significativamente. Algo similar sucede con el tercer jugador, es decir el jugador que tiene en cuenta con cuantas fichas gana, que cuando entrena jugando con negras contra una versión anterior empata la mayoría de las partidas.\n",
    "\n",
    "Sin embargo, al hacer competir a los tres jugadores se puede observar como los jugadores que no entrenan con el oponente aleatorio tienen un mejor desempeño cuando se ponen a prueba contra el jugador \"principiante\" (el que fué entrenado contra el oponente aleatorio). Esto muestra como, a pesar de no tener el mejor porcentaje de victorias durante las partidas de entrenamiento, fueron ajustando los pesos llegando a una mejor versión (mejor según el criterio objetivo definido para evaluar el modelo, el porcentaje de victorias). A su vez se observa que el jugador que toma en cuenta el numero de fichas gana un porcentaje levemente mayor de partidas contra el jugador \"intermedio\", pero a cambio gana menos partidas contra el jugador \"principiante\".\n",
    "\n",
    "Creemos que los resultados probablemente mejoren aumentando significativamente el número de parametros posibles en la valoracion de un tablero / jugada. Hay muchos factores que en este modelo no estamos teniendo en cuenta como podría ser la cantidad de fichas que ya no se pueden mover por haber llegado al otro extremo, la cantidad de amenazas de una misma ficha o otros factores que no se pueden identificar. \n",
    "\n",
    "Por esta misma razón pensamos que no existen pesos ideales, directamente el modelo no se adapta a la realidad. Aunque si existen “mejores” y “peores” pesos."
   ]
  }
 ],
 "metadata": {
  "colab": {
   "collapsed_sections": [
    "D_AIUBJEx8xe"
   ],
   "name": "material_adicional_1 - Ejemplo de informe.ipynb",
   "provenance": []
  },
  "kernelspec": {
   "display_name": "Python 3 (ipykernel)",
   "language": "python",
   "name": "python3"
  },
  "language_info": {
   "codemirror_mode": {
    "name": "ipython",
    "version": 3
   },
   "file_extension": ".py",
   "mimetype": "text/x-python",
   "name": "python",
   "nbconvert_exporter": "python",
   "pygments_lexer": "ipython3",
   "version": "3.9.1"
  }
 },
 "nbformat": 4,
 "nbformat_minor": 1
}
