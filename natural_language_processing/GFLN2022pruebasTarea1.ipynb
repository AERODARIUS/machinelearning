{
  "nbformat": 4,
  "nbformat_minor": 0,
  "metadata": {
    "colab": {
      "provenance": []
    },
    "kernelspec": {
      "name": "python3",
      "display_name": "Python 3"
    },
    "language_info": {
      "name": "python"
    }
  },
  "cells": [
    {
      "cell_type": "markdown",
      "source": [
        "# Tarea 1 - Notebook para probar la Gramática Libre de Contexto (GLC) creada para los sintagmas nominales\n"
      ],
      "metadata": {
        "id": "IWVcN1CFskwg"
      }
    },
    {
      "cell_type": "code",
      "execution_count": null,
      "metadata": {
        "id": "z0QtgrPoskF2",
        "colab": {
          "base_uri": "https://localhost:8080/"
        },
        "outputId": "ee8a64dd-d586-4fa7-d22a-6c871693e953"
      },
      "outputs": [
        {
          "output_type": "stream",
          "name": "stdout",
          "text": [
            "315\n"
          ]
        }
      ],
      "source": [
        "import nltk\n",
        "\n",
        "# SN -> Nom | Det SN | Nom SP | SN SP | SN Conj SN | SN Adj | Nom Nom\n",
        "\n",
        "# Gramática simple\n",
        "gram_simple = nltk.CFG.fromstring(\"\"\"\n",
        "S -> SN\n",
        "SN -> Nom | Det SN | SN SP | Nom Conj SN | Nom Adj | Nom SN\n",
        "SP -> Prep V | Prep SN\n",
        "Det -> 'la' | 'su' | 'los'\n",
        "Prep -> 'de' | 'del'\n",
        "Conj -> 'y' | ','\n",
        "Adj -> 'italiano'\n",
        "V -> 'hablar'\n",
        "Nom -> 'hora' | 'homicidio' | 'años' | 'nacimiento' | 'escritor' | 'poeta' | 'autor' | 'director' | 'cine' | 'teatro' | '100'\n",
        "\"\"\")\n",
        "\n",
        "# Se construye un parser para la gramática definida\n",
        "parser_simple = nltk.ChartParser(gram_simple)\n",
        "\n",
        "# Ejemplo\n",
        "#oracion = ['la', 'hora', 'de', 'hablar', 'de', 'los', '100', 'poeta']\n",
        "\n",
        "oracion = ['la', 'hora', 'de', 'hablar', 'de', 'los',\n",
        "            '100', 'años', 'del', 'nacimiento', 'del',\n",
        "            'escritor', ',', 'poeta', ',', 'autor', 'y', 'director',\n",
        "            'de', 'cine', 'y', 'teatro', 'italiano']\n",
        "\n",
        "#oracion = [ 'su', 'homicidio' ]\n",
        "\n",
        "# Resultado del parsing\n",
        "trees = list(parser_simple.parse(oracion))\n",
        "print(len(trees))\n",
        "#for tree in trees:\n",
        "#    print(tree)\n"
      ]
    }
  ]
}